{
  "nbformat": 4,
  "nbformat_minor": 0,
  "metadata": {
    "colab": {
      "provenance": []
    },
    "kernelspec": {
      "name": "python3",
      "display_name": "Python 3"
    },
    "language_info": {
      "name": "python"
    }
  },
  "cells": [
    {
      "cell_type": "code",
      "execution_count": null,
      "metadata": {
        "colab": {
          "base_uri": "https://localhost:8080/"
        },
        "id": "t-R98iCGs1lN",
        "outputId": "3f4a8856-00a9-4ac8-afca-a0626084e1e6"
      },
      "outputs": [
        {
          "output_type": "stream",
          "name": "stdout",
          "text": [
            "Drive already mounted at /content/drive; to attempt to forcibly remount, call drive.mount(\"/content/drive\", force_remount=True).\n"
          ]
        }
      ],
      "source": [
        "from google.colab import drive\n",
        "drive.mount('/content/drive')"
      ]
    },
    {
      "cell_type": "code",
      "source": [
        "import json\n",
        "import gzip\n",
        "import ast\n",
        "import pandas as pd\n",
        "\n",
        "items = []\n",
        "\n",
        "with open ('/content/drive/My Drive/PI MLOps - STEAM/australian_users_items.json', 'r', encoding='utf-8') as f:\n",
        "    for line in f.readlines():\n",
        "        items.append(ast.literal_eval(line))\n",
        "\n",
        "df_items = pd.DataFrame(items)"
      ],
      "metadata": {
        "id": "M0FWKsCauPfB"
      },
      "execution_count": null,
      "outputs": []
    },
    {
      "cell_type": "code",
      "source": [
        "#Este codigo elimina columnas innecesarias para el analisis\n",
        "eliminar_columnas = ['user_url', 'steam_id', 'items_count']\n",
        "df_items = df_items.drop(eliminar_columnas, axis=1)"
      ],
      "metadata": {
        "id": "JSaA_k56xLGW"
      },
      "execution_count": null,
      "outputs": []
    },
    {
      "cell_type": "code",
      "source": [
        "#desanido la columna 'items'\n",
        "\n",
        "items_exploded_items = df_items.explode('items')\n",
        "items_normalized_items = pd.json_normalize(items_exploded_items['items'])"
      ],
      "metadata": {
        "id": "GSIuSusNaq5q"
      },
      "execution_count": null,
      "outputs": []
    },
    {
      "cell_type": "code",
      "source": [
        "df_items = pd.concat([df_items, items_normalized_items], axis=1)"
      ],
      "metadata": {
        "id": "7wVwXqeuj-2r"
      },
      "execution_count": null,
      "outputs": []
    },
    {
      "cell_type": "code",
      "source": [
        "#Este codigo elimina columnas innecesarias para el analisis\n",
        "eliminar_columnas = ['items', 'playtime_2weeks']\n",
        "df_items = df_items.drop(eliminar_columnas, axis=1)"
      ],
      "metadata": {
        "id": "tXPSMM9YkT2X"
      },
      "execution_count": null,
      "outputs": []
    },
    {
      "cell_type": "code",
      "source": [
        "print(df_items.isnull().sum())"
      ],
      "metadata": {
        "id": "OIOE4M6XymMS",
        "outputId": "bfecf564-5396-4ee4-c2a5-47d2dfa376af",
        "colab": {
          "base_uri": "https://localhost:8080/"
        }
      },
      "execution_count": null,
      "outputs": [
        {
          "output_type": "stream",
          "name": "stdout",
          "text": [
            "user_id             5081705\n",
            "items_count         5081705\n",
            "steam_id            5081705\n",
            "item_id               16806\n",
            "item_name             16806\n",
            "playtime_forever      16806\n",
            "dtype: int64\n"
          ]
        }
      ]
    },
    {
      "cell_type": "code",
      "source": [
        "# Agrupar las mediciones de tiempo por usuario y sumarlas\n",
        "df_agrupado = df_items.groupby(['user_id','item_id','item_name'])['playtime_forever'].sum().reset_index()"
      ],
      "metadata": {
        "id": "RSGOqCHeldxR"
      },
      "execution_count": null,
      "outputs": []
    },
    {
      "cell_type": "code",
      "source": [
        "ruta_guardar = '/content/drive/My Drive/PI MLOps - STEAM/Items.csv'\n",
        "df_agrupado.to_csv(ruta_guardar, index=False)  # index=False evita que se guarde el índice del DataFrame en el archivo"
      ],
      "metadata": {
        "id": "PmhWDOPohjAA"
      },
      "execution_count": null,
      "outputs": []
    }
  ]
}