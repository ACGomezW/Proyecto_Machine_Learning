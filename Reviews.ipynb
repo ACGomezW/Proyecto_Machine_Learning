{
  "nbformat": 4,
  "nbformat_minor": 0,
  "metadata": {
    "colab": {
      "provenance": []
    },
    "kernelspec": {
      "name": "python3",
      "display_name": "Python 3"
    },
    "language_info": {
      "name": "python"
    }
  },
  "cells": [
    {
      "cell_type": "code",
      "execution_count": null,
      "metadata": {
        "colab": {
          "base_uri": "https://localhost:8080/"
        },
        "id": "vppMD3CPrsZ0",
        "outputId": "b25a2911-2b94-4c94-f7ae-1cbd21964f2b"
      },
      "outputs": [
        {
          "output_type": "stream",
          "name": "stdout",
          "text": [
            "Drive already mounted at /content/drive; to attempt to forcibly remount, call drive.mount(\"/content/drive\", force_remount=True).\n"
          ]
        }
      ],
      "source": [
        "from google.colab import drive\n",
        "drive.mount('/content/drive')"
      ]
    },
    {
      "cell_type": "markdown",
      "source": [],
      "metadata": {
        "id": "gzMzdsCSX9tQ"
      }
    },
    {
      "cell_type": "markdown",
      "source": [],
      "metadata": {
        "id": "PfDnv_l4X-Hy"
      }
    },
    {
      "cell_type": "code",
      "source": [
        "import json\n",
        "import gzip\n",
        "import ast\n",
        "import pandas as pd\n",
        "\n",
        "reviews = []\n",
        "\n",
        "with open ('/content/drive/My Drive/PI MLOps - STEAM/australian_user_reviews.json', 'r', encoding='utf-8') as f:\n",
        "    for line in f.readlines():\n",
        "        reviews.append(ast.literal_eval(line))\n",
        "\n",
        "df_reviews = pd.DataFrame(reviews)\n"
      ],
      "metadata": {
        "id": "APmMavYku2TD"
      },
      "execution_count": null,
      "outputs": []
    },
    {
      "cell_type": "code",
      "source": [
        "df_reviewsOpen = df_reviews.explode('reviews')\n",
        "df_reviewsOpen = pd.concat([df_reviewsOpen.drop('reviews', axis=1), df_reviewsOpen['reviews'].apply(pd.Series)], axis=1)\n"
      ],
      "metadata": {
        "id": "Sz0_XDRSYuEy"
      },
      "execution_count": null,
      "outputs": []
    },
    {
      "cell_type": "code",
      "source": [
        "#Este codigo elimina columnas innecesarias para el analisis\n",
        "eliminar_columnas = ['user_url', 'funny', 'posted', 'last_edited', 'helpful']\n",
        "df_reviewsOpen = df_reviewsOpen.drop(eliminar_columnas, axis=1)"
      ],
      "metadata": {
        "id": "ytkSQbn4n0AB"
      },
      "execution_count": null,
      "outputs": []
    },
    {
      "cell_type": "code",
      "source": [
        "df_reviewsOpen = df_reviewsOpen.dropna(axis=1, how='all')"
      ],
      "metadata": {
        "id": "M02Xy6X9piXb"
      },
      "execution_count": null,
      "outputs": []
    },
    {
      "cell_type": "code",
      "source": [
        "import pandas as pd\n",
        "import nltk\n",
        "from nltk.sentiment import SentimentIntensityAnalyzer\n",
        "\n",
        "# Descargar los recursos necesarios para NLTK (solo necesario la primera vez)\n",
        "nltk.download('vader_lexicon')\n",
        "\n",
        "# Crear un analizador de sentimiento\n",
        "sia = SentimentIntensityAnalyzer()\n",
        "\n",
        "# Función para asignar el análisis de sentimiento o el valor predeterminado\n",
        "def analyze_sentiment_or_default(text):\n",
        "    if isinstance(text, str):\n",
        "        compound_score = sia.polarity_scores(text)['compound']\n",
        "        if compound_score >= 0.05:\n",
        "            return 2\n",
        "        elif compound_score <= -0.05:\n",
        "            return 0\n",
        "        else:\n",
        "            return 1\n",
        "    else:\n",
        "        return 1\n",
        "\n",
        "# Aplicar análisis de sentimiento o valor predeterminado y crear la nueva columna 'sentiment_analysis'\n",
        "df_reviewsOpen['sentiment_analysis'] = df_reviewsOpen['review'].apply(analyze_sentiment_or_default)\n",
        "\n",
        "# Reemplazar la columna 'reviews' por la nueva 'sentiment_analysis'\n",
        "df_reviewsOpen.drop(columns=['review'], inplace=True)\n",
        "\n",
        "# Imprimir el DataFrame resultante\n",
        "print(df_reviewsOpen)\n"
      ],
      "metadata": {
        "colab": {
          "base_uri": "https://localhost:8080/"
        },
        "id": "-4iRvHIlqjSU",
        "outputId": "9d509c40-9ca3-4650-cd90-35f16cc67595"
      },
      "execution_count": null,
      "outputs": [
        {
          "output_type": "stream",
          "name": "stderr",
          "text": [
            "[nltk_data] Downloading package vader_lexicon to /root/nltk_data...\n"
          ]
        },
        {
          "output_type": "stream",
          "name": "stdout",
          "text": [
            "                 user_id item_id recommend  sentiment_analysis\n",
            "0      76561197970982479    1250      True                   2\n",
            "0      76561197970982479   22200      True                   2\n",
            "0      76561197970982479   43110      True                   2\n",
            "1                js41637  251610      True                   2\n",
            "1                js41637  227300      True                   2\n",
            "...                  ...     ...       ...                 ...\n",
            "25797  76561198312638244      70      True                   2\n",
            "25797  76561198312638244  362890      True                   2\n",
            "25798        LydiaMorley  273110      True                   2\n",
            "25798        LydiaMorley     730      True                   2\n",
            "25798        LydiaMorley     440      True                   2\n",
            "\n",
            "[59333 rows x 4 columns]\n"
          ]
        }
      ]
    },
    {
      "cell_type": "code",
      "source": [
        "print(df_reviewsOpen.isnull().sum())"
      ],
      "metadata": {
        "colab": {
          "base_uri": "https://localhost:8080/"
        },
        "id": "znbZxDHnskkM",
        "outputId": "bd7236d3-084a-4589-9031-d118aaca3b72"
      },
      "execution_count": null,
      "outputs": [
        {
          "output_type": "stream",
          "name": "stdout",
          "text": [
            "user_id                0\n",
            "item_id               28\n",
            "recommend             28\n",
            "sentiment_analysis     0\n",
            "dtype: int64\n"
          ]
        }
      ]
    },
    {
      "cell_type": "code",
      "source": [
        "ruta_guardar = '/content/drive/My Drive/PI MLOps - STEAM/Review.csv'\n",
        "df_reviewsOpen.to_csv(ruta_guardar, index=False)"
      ],
      "metadata": {
        "id": "fmBmrPm8ckq6"
      },
      "execution_count": null,
      "outputs": []
    }
  ]
}