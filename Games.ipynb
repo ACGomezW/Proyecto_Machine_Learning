{
  "nbformat": 4,
  "nbformat_minor": 0,
  "metadata": {
    "colab": {
      "provenance": []
    },
    "kernelspec": {
      "name": "python3",
      "display_name": "Python 3"
    },
    "language_info": {
      "name": "python"
    }
  },
  "cells": [
    {
      "cell_type": "code",
      "execution_count": null,
      "metadata": {
        "colab": {
          "base_uri": "https://localhost:8080/"
        },
        "id": "_sBUKO13Nzvn",
        "outputId": "6b9878af-566c-4370-e02e-fe04e0688c86"
      },
      "outputs": [
        {
          "output_type": "stream",
          "name": "stdout",
          "text": [
            "Mounted at /content/drive\n"
          ]
        }
      ],
      "source": [
        "from google.colab import drive\n",
        "drive.mount('/content/drive')\n"
      ]
    },
    {
      "cell_type": "code",
      "source": [
        "import json\n",
        "\n",
        "# Este código lee un archivo JSON que contiene múltiples objetos JSON en líneas separadas, los analiza y almacena en una lista\n",
        "\n",
        "ruta_archivo = '/content/drive/My Drive/PI MLOps - STEAM/output_steam_games.json'\n",
        "\n",
        "with open(ruta_archivo, 'r') as file:\n",
        "    json_string = file.read()\n",
        "\n",
        "json_objeto = json_string.split('\\n')\n",
        "json_lista = []\n",
        "\n",
        "for json_obj in json_objeto:\n",
        "    try:\n",
        "        analisis_obj = json.loads(json_obj)\n",
        "        json_lista.append(analisis_obj)\n",
        "    except json.JSONDecodeError:\n",
        "        pass\n"
      ],
      "metadata": {
        "id": "PoLhl2U-N67f"
      },
      "execution_count": null,
      "outputs": []
    },
    {
      "cell_type": "code",
      "source": [
        "#Este código toma una lista de objetos JSON, los concatena en un único DataFrame llamado steam_games.\n",
        "#Cada objeto JSON se convierte en una fila del DataFrame final, y las columnas del DataFrame corresponden a las claves del objeto JSON.\n",
        "\n",
        "import pandas as pd\n",
        "\n",
        "dataframes=[]\n",
        "for json_obj in json_lista:\n",
        "    df = pd.DataFrame([json_obj])\n",
        "    dataframes.append(df)\n",
        "\n",
        "steam_games= pd.concat(dataframes, ignore_index=True)"
      ],
      "metadata": {
        "id": "o31AKd8pYp_n"
      },
      "execution_count": null,
      "outputs": []
    },
    {
      "cell_type": "code",
      "source": [
        "#Este codigo elimina columnas innecesarias para el analisis\n",
        "\n",
        "eliminar_columnas = ['specs', 'url', 'reviews_url', 'discount_price', 'publisher', 'price', 'metascore', 'tags', 'developer', 'app_name', 'items_count', 'steam_id', 'early_access','title','id']\n",
        "steam_games = steam_games.drop(eliminar_columnas, axis=1)"
      ],
      "metadata": {
        "id": "lYTvQ-lnaL--"
      },
      "execution_count": null,
      "outputs": []
    },
    {
      "cell_type": "code",
      "source": [
        "#Como la columna 'items' contiene listas, explode creará una nueva fila para cada elemento de la lista, y el resto de las\n",
        "# columnas se duplicarán según corresponda.\n",
        "#Normalized convierte las estructuras JSON anidadas en columnas separadas en el DataFrame resultante\n",
        "\n",
        "steam_games_exploded_items = steam_games.explode('items')\n",
        "steam_games_normalized_items = pd.json_normalize(steam_games_exploded_items['items'])"
      ],
      "metadata": {
        "id": "JAmuUEtHblpm"
      },
      "execution_count": null,
      "outputs": []
    },
    {
      "cell_type": "code",
      "source": [
        "#Ahora se concatena\n",
        "\n",
        "df_games = pd.concat([steam_games, steam_games_normalized_items], axis=1)"
      ],
      "metadata": {
        "id": "9TNf06aiNtTe"
      },
      "execution_count": null,
      "outputs": []
    },
    {
      "cell_type": "code",
      "source": [
        "#elimino columna desanidada\n",
        "\n",
        "eliminar_columnas = ['items']\n",
        "df_games = df_games.drop(eliminar_columnas, axis=1)"
      ],
      "metadata": {
        "id": "zYHb5h6bPHK2"
      },
      "execution_count": null,
      "outputs": []
    },
    {
      "cell_type": "code",
      "source": [
        "#observo nulos\n",
        "\n",
        "print(df_games.isnull().sum())"
      ],
      "metadata": {
        "colab": {
          "base_uri": "https://localhost:8080/"
        },
        "id": "9JEi-9t8Uch-",
        "outputId": "4cb02356-83f2-4653-e125-a95c15a56264"
      },
      "execution_count": null,
      "outputs": [
        {
          "output_type": "stream",
          "name": "stdout",
          "text": [
            "genres              5173298\n",
            "title               5172065\n",
            "release_date        5172082\n",
            "id                  5170017\n",
            "user_id             5113840\n",
            "item_id               48941\n",
            "item_name             48941\n",
            "playtime_forever      48941\n",
            "playtime_2weeks       48941\n",
            "dtype: int64\n"
          ]
        }
      ]
    },
    {
      "cell_type": "code",
      "source": [
        "#elimino nulos\n",
        "df_games = df_games.dropna(subset =['item_id'])"
      ],
      "metadata": {
        "id": "eyyOp-pyV7z-"
      },
      "execution_count": null,
      "outputs": []
    },
    {
      "cell_type": "code",
      "source": [
        "df_games = df_games.dropna(subset =['release_date'])"
      ],
      "metadata": {
        "id": "tzHtYbmftnqq"
      },
      "execution_count": null,
      "outputs": []
    },
    {
      "cell_type": "code",
      "source": [
        "#elimino columna innecesaria\n",
        "\n",
        "eliminar_columnas = ['playtime_2weeks']\n",
        "df_games = df_games.drop(eliminar_columnas, axis=1)"
      ],
      "metadata": {
        "id": "-ZTp5PEQTkIl"
      },
      "execution_count": null,
      "outputs": []
    },
    {
      "cell_type": "code",
      "source": [
        "\n",
        "# Función para aplicar str.lower() a una celda\n",
        "def to_lower(x):\n",
        "    if isinstance(x, str):\n",
        "        return x.lower()\n",
        "    elif isinstance(x, list):\n",
        "        # Si es una lista, aplicar str.lower() a cada elemento\n",
        "        return [item.lower() for item in x]\n",
        "    else:\n",
        "        return x\n",
        "\n",
        "# Aplicar to_lower a todas las celdas del DataFrame\n",
        "df_games = df_games.applymap(to_lower)\n",
        "\n",
        "\n",
        "\n"
      ],
      "metadata": {
        "id": "KB36-dgbFmVD"
      },
      "execution_count": null,
      "outputs": []
    },
    {
      "cell_type": "code",
      "source": [
        "df_games.info()"
      ],
      "metadata": {
        "colab": {
          "base_uri": "https://localhost:8080/"
        },
        "id": "7aKnUlT0NiG5",
        "outputId": "74eb5abc-5f1f-4daa-e15e-00ab7db66a0e"
      },
      "execution_count": null,
      "outputs": [
        {
          "output_type": "stream",
          "name": "stdout",
          "text": [
            "<class 'pandas.core.frame.DataFrame'>\n",
            "RangeIndex: 5202150 entries, 0 to 5202149\n",
            "Data columns (total 8 columns):\n",
            " #   Column            Dtype  \n",
            "---  ------            -----  \n",
            " 0   genres            object \n",
            " 1   title             object \n",
            " 2   release_date      object \n",
            " 3   id                object \n",
            " 4   user_id           object \n",
            " 5   item_id           object \n",
            " 6   item_name         object \n",
            " 7   playtime_forever  float64\n",
            "dtypes: float64(1), object(7)\n",
            "memory usage: 317.5+ MB\n"
          ]
        }
      ]
    },
    {
      "cell_type": "code",
      "source": [
        "# solo me interesa presenvar la columna genres de este dataframe\n",
        "df_games = df_games.dropna(subset=['genres'])"
      ],
      "metadata": {
        "id": "0wpJe4DfG_RW"
      },
      "execution_count": null,
      "outputs": []
    },
    {
      "cell_type": "code",
      "source": [
        "df_games['genres']"
      ],
      "metadata": {
        "colab": {
          "base_uri": "https://localhost:8080/"
        },
        "id": "dhpSdqp8ZGa6",
        "outputId": "7c429369-ad8b-47f9-d367-be751e6e47ae"
      },
      "execution_count": null,
      "outputs": [
        {
          "output_type": "execute_result",
          "data": {
            "text/plain": [
              "88310         [action, casual, indie, simulation, strategy]\n",
              "88311                  [free to play, indie, rpg, strategy]\n",
              "88312     [casual, free to play, indie, simulation, sports]\n",
              "88313                           [action, adventure, casual]\n",
              "88315                       [action, adventure, simulation]\n",
              "                                ...                        \n",
              "120439                   [action, adventure, casual, indie]\n",
              "120440                [casual, indie, simulation, strategy]\n",
              "120441                            [casual, indie, strategy]\n",
              "120442                          [indie, racing, simulation]\n",
              "120443                                      [casual, indie]\n",
              "Name: genres, Length: 30034, dtype: object"
            ]
          },
          "metadata": {},
          "execution_count": 26
        }
      ]
    },
    {
      "cell_type": "code",
      "source": [
        "# guardo el resultado en un csv\n",
        "ruta_guardar = '/content/drive/My Drive/PI MLOps - STEAM/Games.csv'\n",
        "df_games.to_csv(ruta_guardar, index=False)  # index=False evita que se guarde el índice del DataFrame en el archivo"
      ],
      "metadata": {
        "id": "et34AcMu_oiU"
      },
      "execution_count": null,
      "outputs": []
    }
  ]
}